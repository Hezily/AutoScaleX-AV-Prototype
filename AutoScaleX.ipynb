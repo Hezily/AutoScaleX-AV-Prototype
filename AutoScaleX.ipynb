{
  "cells": [
    {
      "cell_type": "markdown",
      "metadata": {
        "id": "view-in-github",
        "colab_type": "text"
      },
      "source": [
        "<a href=\"https://colab.research.google.com/github/Hezily/AutoScaleX-AV-Prototype/blob/main/AutoScaleX.ipynb\" target=\"_parent\"><img src=\"https://colab.research.google.com/assets/colab-badge.svg\" alt=\"Open In Colab\"/></a>"
      ]
    },
    {
      "cell_type": "code",
      "execution_count": null,
      "metadata": {
        "colab": {
          "base_uri": "https://localhost:8080/"
        },
        "id": "GGNI5YhZqbZ7",
        "outputId": "0e7f8741-198a-4d90-f4a9-f1020cd8fc8f"
      },
      "outputs": [
        {
          "name": "stdout",
          "output_type": "stream",
          "text": [
            "Reading package lists... Done\n",
            "Building dependency tree... Done\n",
            "Reading state information... Done\n",
            "swig is already the newest version (4.0.2-1ubuntu1).\n",
            "0 upgraded, 0 newly installed, 0 to remove and 35 not upgraded.\n",
            "Requirement already satisfied: box2d-py in /usr/local/lib/python3.11/dist-packages (2.3.8)\n",
            "Requirement already satisfied: pygame==2.5.2 in /usr/local/lib/python3.11/dist-packages (2.5.2)\n",
            "Requirement already satisfied: gym==0.25.2 in /usr/local/lib/python3.11/dist-packages (0.25.2)\n",
            "Requirement already satisfied: numpy>=1.18.0 in /usr/local/lib/python3.11/dist-packages (from gym==0.25.2) (2.0.2)\n",
            "Requirement already satisfied: cloudpickle>=1.2.0 in /usr/local/lib/python3.11/dist-packages (from gym==0.25.2) (3.1.1)\n",
            "Requirement already satisfied: gym-notices>=0.0.4 in /usr/local/lib/python3.11/dist-packages (from gym==0.25.2) (0.0.8)\n"
          ]
        }
      ],
      "source": [
        "!apt-get install -y swig\n",
        "!pip install box2d-py pygame==2.5.2\n",
        "!pip install gym==0.25.2\n"
      ]
    },
    {
      "cell_type": "code",
      "execution_count": null,
      "metadata": {
        "id": "srO-6-4NsGPK"
      },
      "outputs": [],
      "source": [
        "import gym\n",
        "import cv2\n",
        "import numpy as np\n",
        "import matplotlib.pyplot as plt\n",
        "from collections import deque\n",
        "import tensorflow as tf\n",
        "from tensorflow.keras.models import Sequential\n",
        "from tensorflow.keras.layers import Conv2D, Flatten, Dense\n",
        "from tensorflow.keras.optimizers import Adam\n",
        "from IPython.display import display, clear_output\n"
      ]
    },
    {
      "cell_type": "code",
      "execution_count": null,
      "metadata": {
        "id": "oZ57XxhgsIIP"
      },
      "outputs": [],
      "source": [
        "# Set parameters\n",
        "replay_buffer_size = 10000\n",
        "num_episodes = 3  # Reduced for Colab runtime\n",
        "max_steps_per_episode = 3000\n",
        "batch_size = 32\n",
        "gamma = 0.99\n",
        "learning_rate = 0.001"
      ]
    },
    {
      "cell_type": "code",
      "execution_count": null,
      "metadata": {
        "id": "d52eNs38sLlV"
      },
      "outputs": [],
      "source": [
        "# Initialize environment\n",
        "env = gym.make(\"CarRacing-v2\", render_mode=\"rgb_array\")\n",
        "obs = env.reset()"
      ]
    },
    {
      "cell_type": "code",
      "execution_count": null,
      "metadata": {
        "id": "T7tD2OQUskkf"
      },
      "outputs": [],
      "source": [
        "# Initialize replay buffer\n",
        "replay_buffer = deque(maxlen=replay_buffer_size)"
      ]
    },
    {
      "cell_type": "code",
      "execution_count": null,
      "metadata": {
        "id": "R3ot0RXHsmUM"
      },
      "outputs": [],
      "source": [
        "def preprocess_frame(frame):\n",
        "    if frame is None or not isinstance(frame, np.ndarray):\n",
        "        return np.zeros((84, 84))\n",
        "    gray = cv2.cvtColor(frame, cv2.COLOR_RGB2GRAY)\n",
        "    gray = gray / 255.0\n",
        "    processed_frame = cv2.resize(gray, (84, 84))\n",
        "    return processed_frame"
      ]
    },
    {
      "cell_type": "code",
      "execution_count": null,
      "metadata": {
        "id": "RXxyzGiCsqgP"
      },
      "outputs": [],
      "source": [
        "def normalize_rewards(rewards):\n",
        "    rewards = np.array(rewards)\n",
        "    return (rewards - np.mean(rewards)) / (np.std(rewards) + 1e-5)"
      ]
    },
    {
      "cell_type": "code",
      "execution_count": null,
      "metadata": {
        "id": "VWq7kYXkst92"
      },
      "outputs": [],
      "source": [
        "def build_model(input_shape, output_dim):\n",
        "    model = Sequential([\n",
        "        Conv2D(32, (8, 8), strides=4, activation=\"relu\", input_shape=input_shape),\n",
        "        Conv2D(64, (4, 4), strides=2, activation=\"relu\"),\n",
        "        Conv2D(64, (3, 3), strides=1, activation=\"relu\"),\n",
        "        Flatten(),\n",
        "        Dense(512, activation=\"relu\"),\n",
        "        Dense(output_dim, activation=\"linear\")\n",
        "    ])\n",
        "    model.compile(optimizer=Adam(learning_rate=learning_rate), loss=\"mse\")\n",
        "    return model"
      ]
    },
    {
      "cell_type": "code",
      "execution_count": null,
      "metadata": {
        "id": "0WOcRy4isxRk"
      },
      "outputs": [],
      "source": [
        "def train_dqn_model(model, replay_buffer, batch_size, gamma):\n",
        "    if len(replay_buffer) < batch_size:\n",
        "        return\n",
        "    indices = np.random.choice(len(replay_buffer), batch_size, replace=False)\n",
        "    for idx in indices:\n",
        "        state, action, reward, next_state, done = replay_buffer[idx]\n",
        "\n",
        "        state = np.expand_dims(state, axis=-1)\n",
        "        next_state = np.expand_dims(next_state, axis=-1)\n",
        "\n",
        "        target = reward\n",
        "        if not done:\n",
        "            target += gamma * np.amax(model.predict(np.expand_dims(next_state, axis=0), verbose=0))\n",
        "\n",
        "        target_f = model.predict(np.expand_dims(state, axis=0), verbose=0)\n",
        "        # Simplified: assume discrete actions, take the index of max\n",
        "        a_idx = np.argmax(action)\n",
        "        target_f[0][a_idx] = target\n",
        "\n",
        "        model.fit(np.expand_dims(state, axis=0), target_f, epochs=1, verbose=0)"
      ]
    },
    {
      "cell_type": "code",
      "execution_count": null,
      "metadata": {
        "colab": {
          "base_uri": "https://localhost:8080/",
          "height": 451
        },
        "id": "IM_0GJaus05W",
        "outputId": "2cd14e12-e27e-428a-e616-4aed37ea74fe"
      },
      "outputs": [
        {
          "output_type": "stream",
          "name": "stdout",
          "text": [
            "Episode 3/3 finished after 1000 steps\n"
          ]
        },
        {
          "output_type": "display_data",
          "data": {
            "text/plain": [
              "<Figure size 640x480 with 1 Axes>"
            ],
            "image/png": "[encoded data removed]"
          },
          "metadata": {}
        }
      ],
      "source": [
        "from IPython.display import display, clear_output\n",
        "\n",
        "# Your preprocess_frame function should be defined above this loop\n",
        "# Your replay_buffer should be initialized before this loop\n",
        "\n",
        "for episode in range(num_episodes):\n",
        "    obs = env.reset()\n",
        "    state = preprocess_frame(obs)\n",
        "    done = False\n",
        "    step = 0\n",
        "\n",
        "    while not done and step < max_steps_per_episode:\n",
        "        action = env.action_space.sample()\n",
        "        action = [float(a) for a in action]  # Convert to native Python floats\n",
        "        action[2] = 1.0  # Full throttle\n",
        "\n",
        "        next_obs, reward, done, info = env.step(action)  # 4 values only\n",
        "\n",
        "        next_state = preprocess_frame(next_obs)\n",
        "\n",
        "        replay_buffer.append((state, action, reward, next_state, done))\n",
        "        state = next_state\n",
        "        step += 1\n",
        "\n",
        "        if step % 50 == 0:\n",
        "            plt.imshow(next_obs)\n",
        "            display(plt.gcf())\n",
        "            clear_output(wait=True)\n",
        "\n",
        "    print(f\"Episode {episode + 1}/{num_episodes} finished after {step} steps\")\n"
      ]
    }
  ],
  "metadata": {
    "colab": {
      "provenance": [],
      "authorship_tag": "ABX9TyPxxH2Q7JWiqwbij6+G4GYn",
      "include_colab_link": true
    },
    "kernelspec": {
      "display_name": "Python 3",
      "name": "python3"
    },
    "language_info": {
      "name": "python"
    }
  },
  "nbformat": 4,
  "nbformat_minor": 0
}